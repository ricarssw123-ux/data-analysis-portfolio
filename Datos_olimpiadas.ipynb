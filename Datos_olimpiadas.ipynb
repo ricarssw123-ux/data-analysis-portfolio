{
 "cells": [
  {
   "cell_type": "code",
   "execution_count": 1,
   "id": "c49226ae-8745-4e5a-bcf0-603ebabfbea7",
   "metadata": {},
   "outputs": [],
   "source": [
    "import pandas as pd\n",
    "import numpy as np\n",
    "import matplotlib.pyplot as plt\n",
    "import seaborn as sns"
   ]
  },
  {
   "cell_type": "code",
   "execution_count": 14,
   "id": "35129373-19b1-4417-a21d-c463ca9c514b",
   "metadata": {},
   "outputs": [],
   "source": [
    "data = pd.read_csv(\"athlete_events.csv\")"
   ]
  },
  {
   "cell_type": "code",
   "execution_count": 15,
   "id": "80db8234-fa80-4f41-8388-c5882c5773f4",
   "metadata": {},
   "outputs": [
    {
     "data": {
      "text/html": [
       "<div>\n",
       "<style scoped>\n",
       "    .dataframe tbody tr th:only-of-type {\n",
       "        vertical-align: middle;\n",
       "    }\n",
       "\n",
       "    .dataframe tbody tr th {\n",
       "        vertical-align: top;\n",
       "    }\n",
       "\n",
       "    .dataframe thead th {\n",
       "        text-align: right;\n",
       "    }\n",
       "</style>\n",
       "<table border=\"1\" class=\"dataframe\">\n",
       "  <thead>\n",
       "    <tr style=\"text-align: right;\">\n",
       "      <th></th>\n",
       "      <th>ID</th>\n",
       "      <th>Name</th>\n",
       "      <th>Sex</th>\n",
       "      <th>Age</th>\n",
       "      <th>Height</th>\n",
       "      <th>Weight</th>\n",
       "      <th>Team</th>\n",
       "      <th>NOC</th>\n",
       "      <th>Games</th>\n",
       "      <th>Year</th>\n",
       "      <th>Season</th>\n",
       "      <th>City</th>\n",
       "      <th>Sport</th>\n",
       "      <th>Event</th>\n",
       "      <th>Medal</th>\n",
       "    </tr>\n",
       "  </thead>\n",
       "  <tbody>\n",
       "    <tr>\n",
       "      <th>0</th>\n",
       "      <td>1</td>\n",
       "      <td>A Dijiang</td>\n",
       "      <td>M</td>\n",
       "      <td>24.0</td>\n",
       "      <td>180.0</td>\n",
       "      <td>80.0</td>\n",
       "      <td>China</td>\n",
       "      <td>CHN</td>\n",
       "      <td>1992 Summer</td>\n",
       "      <td>1992</td>\n",
       "      <td>Summer</td>\n",
       "      <td>Barcelona</td>\n",
       "      <td>Basketball</td>\n",
       "      <td>Basketball Men's Basketball</td>\n",
       "      <td>NaN</td>\n",
       "    </tr>\n",
       "    <tr>\n",
       "      <th>1</th>\n",
       "      <td>2</td>\n",
       "      <td>A Lamusi</td>\n",
       "      <td>M</td>\n",
       "      <td>23.0</td>\n",
       "      <td>170.0</td>\n",
       "      <td>60.0</td>\n",
       "      <td>China</td>\n",
       "      <td>CHN</td>\n",
       "      <td>2012 Summer</td>\n",
       "      <td>2012</td>\n",
       "      <td>Summer</td>\n",
       "      <td>London</td>\n",
       "      <td>Judo</td>\n",
       "      <td>Judo Men's Extra-Lightweight</td>\n",
       "      <td>NaN</td>\n",
       "    </tr>\n",
       "    <tr>\n",
       "      <th>2</th>\n",
       "      <td>3</td>\n",
       "      <td>Gunnar Nielsen Aaby</td>\n",
       "      <td>M</td>\n",
       "      <td>24.0</td>\n",
       "      <td>NaN</td>\n",
       "      <td>NaN</td>\n",
       "      <td>Denmark</td>\n",
       "      <td>DEN</td>\n",
       "      <td>1920 Summer</td>\n",
       "      <td>1920</td>\n",
       "      <td>Summer</td>\n",
       "      <td>Antwerpen</td>\n",
       "      <td>Football</td>\n",
       "      <td>Football Men's Football</td>\n",
       "      <td>NaN</td>\n",
       "    </tr>\n",
       "    <tr>\n",
       "      <th>3</th>\n",
       "      <td>4</td>\n",
       "      <td>Edgar Lindenau Aabye</td>\n",
       "      <td>M</td>\n",
       "      <td>34.0</td>\n",
       "      <td>NaN</td>\n",
       "      <td>NaN</td>\n",
       "      <td>Denmark/Sweden</td>\n",
       "      <td>DEN</td>\n",
       "      <td>1900 Summer</td>\n",
       "      <td>1900</td>\n",
       "      <td>Summer</td>\n",
       "      <td>Paris</td>\n",
       "      <td>Tug-Of-War</td>\n",
       "      <td>Tug-Of-War Men's Tug-Of-War</td>\n",
       "      <td>Gold</td>\n",
       "    </tr>\n",
       "    <tr>\n",
       "      <th>4</th>\n",
       "      <td>5</td>\n",
       "      <td>Christine Jacoba Aaftink</td>\n",
       "      <td>F</td>\n",
       "      <td>21.0</td>\n",
       "      <td>185.0</td>\n",
       "      <td>82.0</td>\n",
       "      <td>Netherlands</td>\n",
       "      <td>NED</td>\n",
       "      <td>1988 Winter</td>\n",
       "      <td>1988</td>\n",
       "      <td>Winter</td>\n",
       "      <td>Calgary</td>\n",
       "      <td>Speed Skating</td>\n",
       "      <td>Speed Skating Women's 500 metres</td>\n",
       "      <td>NaN</td>\n",
       "    </tr>\n",
       "  </tbody>\n",
       "</table>\n",
       "</div>"
      ],
      "text/plain": [
       "   ID                      Name Sex   Age  Height  Weight            Team  \\\n",
       "0   1                 A Dijiang   M  24.0   180.0    80.0           China   \n",
       "1   2                  A Lamusi   M  23.0   170.0    60.0           China   \n",
       "2   3       Gunnar Nielsen Aaby   M  24.0     NaN     NaN         Denmark   \n",
       "3   4      Edgar Lindenau Aabye   M  34.0     NaN     NaN  Denmark/Sweden   \n",
       "4   5  Christine Jacoba Aaftink   F  21.0   185.0    82.0     Netherlands   \n",
       "\n",
       "   NOC        Games  Year  Season       City          Sport  \\\n",
       "0  CHN  1992 Summer  1992  Summer  Barcelona     Basketball   \n",
       "1  CHN  2012 Summer  2012  Summer     London           Judo   \n",
       "2  DEN  1920 Summer  1920  Summer  Antwerpen       Football   \n",
       "3  DEN  1900 Summer  1900  Summer      Paris     Tug-Of-War   \n",
       "4  NED  1988 Winter  1988  Winter    Calgary  Speed Skating   \n",
       "\n",
       "                              Event Medal  \n",
       "0       Basketball Men's Basketball   NaN  \n",
       "1      Judo Men's Extra-Lightweight   NaN  \n",
       "2           Football Men's Football   NaN  \n",
       "3       Tug-Of-War Men's Tug-Of-War  Gold  \n",
       "4  Speed Skating Women's 500 metres   NaN  "
      ]
     },
     "execution_count": 15,
     "metadata": {},
     "output_type": "execute_result"
    }
   ],
   "source": [
    "data.head()"
   ]
  },
  {
   "cell_type": "code",
   "execution_count": 4,
   "id": "5110f3d6-358a-416a-a533-05b9f1c35838",
   "metadata": {},
   "outputs": [],
   "source": [
    "#Se filtran los datos de Mexico\n",
    "data_Mexico = data[data[\"NOC\"] == \"MEX\"]\n",
    "data_Mexico.head()\n"
   ]
  },
  {
   "cell_type": "code",
   "execution_count": 16,
   "id": "fbe11c0c-3d62-429c-b964-dc85da9d5d93",
   "metadata": {},
   "outputs": [
    {
     "data": {
      "text/plain": [
       "ID        2880\n",
       "Name      2880\n",
       "Sex       2880\n",
       "Age       2675\n",
       "Height    2435\n",
       "Weight    2314\n",
       "Team      2880\n",
       "NOC       2880\n",
       "Games     2880\n",
       "Year      2880\n",
       "Season    2880\n",
       "City      2880\n",
       "Sport     2880\n",
       "Event     2880\n",
       "Medal      110\n",
       "dtype: int64"
      ]
     },
     "execution_count": 16,
     "metadata": {},
     "output_type": "execute_result"
    }
   ],
   "source": [
    "#Se aplica un conteo\n",
    "data_Mexico.count()\n"
   ]
  },
  {
   "cell_type": "code",
   "execution_count": 17,
   "id": "4dbd04ab-eeb0-4685-bc38-546d738a1e3c",
   "metadata": {},
   "outputs": [],
   "source": [
    "#Se hace una limpieza para descartar los valores que no cuentan con medallas\n",
    "Mexico = data_Mexico.dropna(subset=[\"Medal\"])"
   ]
  },
  {
   "cell_type": "code",
   "execution_count": 22,
   "id": "75db191a-f060-46ca-b93b-be610fa6c0d6",
   "metadata": {},
   "outputs": [],
   "source": [
    "#Se acomodan los valores por año en forma ascendente\n",
    "Mexico = Mexico.sort_values(by=\"Year\")\n",
    "#print(Mexico)\n"
   ]
  },
  {
   "cell_type": "code",
   "execution_count": 55,
   "id": "ccd96c9b-c4e8-4dcc-ae02-dd135a8600c3",
   "metadata": {},
   "outputs": [
    {
     "name": "stdout",
     "output_type": "stream",
     "text": [
      "   Sex   Age  NOC  Year         City       Sport   Medal\n",
      "0    M  38.0  MEX  1900        Paris        Polo  Bronze\n",
      "1    M  20.0  MEX  1932  Los Angeles      Boxing  Silver\n",
      "2    M  19.0  MEX  1932  Los Angeles    Shooting  Silver\n",
      "3    M  23.0  MEX  1936       Berlin  Basketball  Bronze\n",
      "4    M  27.0  MEX  1936       Berlin      Boxing  Bronze\n",
      "..  ..   ...  ...   ...          ...         ...     ...\n",
      "75   F   NaN  MEX  2024        Paris     Archery  Bronze\n",
      "76   F   NaN  MEX  2024        Paris        Judo  Silver\n",
      "77   M   NaN  MEX  2024        Paris      Diving  Silver\n",
      "78   M   NaN  MEX  2024        Paris      Diving  Bronze\n",
      "79   v   NaN  MEX  2024        Paris      Boxing  Silver\n",
      "\n",
      "[80 rows x 7 columns]\n"
     ]
    }
   ],
   "source": [
    "#Se importa un documento que contiene datos faltantes del documento original\n",
    "datos_actualizados = pd.read_excel(\"Mexico_actualizado.xlsx\")\n",
    "\n",
    "#Se agrupan y contabilizan las medallas por año\n",
    "meda_año = datos_actualizados.groupby(\"Year\")[\"Medal\"].count().reset_index()\n",
    "\n"
   ]
  },
  {
   "cell_type": "code",
   "execution_count": 53,
   "id": "37e8a690-b3e5-4f47-a2ed-ee162a554acf",
   "metadata": {},
   "outputs": [
    {
     "name": "stdout",
     "output_type": "stream",
     "text": [
      "    Year  Medal\n",
      "0   1900      1\n",
      "1   1932      2\n",
      "2   1936      3\n",
      "3   1948      5\n",
      "4   1952      1\n",
      "5   1956      2\n",
      "6   1960      1\n",
      "7   1964      1\n",
      "8   1968      9\n",
      "9   1972      2\n",
      "10  1976      3\n",
      "11  1980      4\n",
      "12  1984      6\n",
      "13  1988      2\n",
      "14  1992      1\n",
      "15  1996      1\n",
      "16  2000      6\n",
      "17  2004      4\n",
      "18  2008      4\n",
      "19  2012      8\n",
      "20  2016      5\n",
      "21  2020      4\n",
      "22  2024      5\n"
     ]
    },
    {
     "data": {
      "text/plain": [
       "(array([1880., 1900., 1920., 1940., 1960., 1980., 2000., 2020., 2040.]),\n",
       " [Text(1880.0, 0, '1880'),\n",
       "  Text(1900.0, 0, '1900'),\n",
       "  Text(1920.0, 0, '1920'),\n",
       "  Text(1940.0, 0, '1940'),\n",
       "  Text(1960.0, 0, '1960'),\n",
       "  Text(1980.0, 0, '1980'),\n",
       "  Text(2000.0, 0, '2000'),\n",
       "  Text(2020.0, 0, '2020'),\n",
       "  Text(2040.0, 0, '2040')])"
      ]
     },
     "execution_count": 53,
     "metadata": {},
     "output_type": "execute_result"
    },
    {
     "data": {
      "image/png": "[encoded data removed]",
      "text/plain": [
       "<Figure size 640x480 with 1 Axes>"
      ]
     },
     "metadata": {},
     "output_type": "display_data"
    }
   ],
   "source": [
    "print(meda_año)\n",
    "#Realizamos una gráfica de lineas para visualizar la evolución que se ha experimentado\n",
    "sns.lineplot (data=meda_año, x=\"Year\",y=\"Medal\")\n",
    "plt.xticks(rotation=90)\n",
    "             "
   ]
  },
  {
   "cell_type": "code",
   "execution_count": 56,
   "id": "e1b9e399-eb68-486c-9184-b78718e2388e",
   "metadata": {},
   "outputs": [
    {
     "name": "stdout",
     "output_type": "stream",
     "text": [
      "                Sport  Medal\n",
      "0             Archery      4\n",
      "1           Athletics     12\n",
      "2          Basketball      1\n",
      "3              Boxing     15\n",
      "4             Cycling      2\n",
      "5              Diving     18\n",
      "6       Equestrianism      7\n",
      "7             Fencing      1\n",
      "8            Football      2\n",
      "9                Judo      1\n",
      "10  Modern Pentathlon      1\n",
      "11               Polo      2\n",
      "12           Shooting      1\n",
      "13           Swimming      2\n",
      "14          Taekwondo      7\n",
      "15      Weightlifting      3\n",
      "16          Wrestling      1\n"
     ]
    }
   ],
   "source": [
    "#Agrupamos y contabilizamos las medallas por deporte\n",
    "depor_año =datos_actualizados.groupby(\"Sport\")[\"Medal\"].count().reset_index()\n",
    "depor_año.to_excel(\"Deporte.xlsx\", index=False)\n",
    "print(depor_año)\n",
    "df_sorted = depor_año.sort_values(by='Medal', ascending=False)"
   ]
  },
  {
   "cell_type": "code",
   "execution_count": 43,
   "id": "495fb7ac-89f5-4a20-a364-72d799334fbf",
   "metadata": {},
   "outputs": [
    {
     "data": {
      "text/plain": [
       "([<matplotlib.axis.YTick at 0x1f74d4145b0>,\n",
       "  <matplotlib.axis.YTick at 0x1f74d414070>,\n",
       "  <matplotlib.axis.YTick at 0x1f74d3d0400>,\n",
       "  <matplotlib.axis.YTick at 0x1f74d3d0550>,\n",
       "  <matplotlib.axis.YTick at 0x1f74d3d19f0>,\n",
       "  <matplotlib.axis.YTick at 0x1f74f314700>,\n",
       "  <matplotlib.axis.YTick at 0x1f74f3151b0>,\n",
       "  <matplotlib.axis.YTick at 0x1f74d3d0af0>,\n",
       "  <matplotlib.axis.YTick at 0x1f74f315900>,\n",
       "  <matplotlib.axis.YTick at 0x1f74f3163b0>,\n",
       "  <matplotlib.axis.YTick at 0x1f74f316e60>,\n",
       "  <matplotlib.axis.YTick at 0x1f74f317910>,\n",
       "  <matplotlib.axis.YTick at 0x1f74f316a10>,\n",
       "  <matplotlib.axis.YTick at 0x1f74f32c370>,\n",
       "  <matplotlib.axis.YTick at 0x1f74f32ce20>,\n",
       "  <matplotlib.axis.YTick at 0x1f74f32d8d0>,\n",
       "  <matplotlib.axis.YTick at 0x1f74f32e380>,\n",
       "  <matplotlib.axis.YTick at 0x1f74f32d540>,\n",
       "  <matplotlib.axis.YTick at 0x1f74f32ec80>,\n",
       "  <matplotlib.axis.YTick at 0x1f74f32f730>],\n",
       " [Text(0, 0.0, '0'),\n",
       "  Text(0, 1.0, '1'),\n",
       "  Text(0, 2.0, '2'),\n",
       "  Text(0, 3.0, '3'),\n",
       "  Text(0, 4.0, '4'),\n",
       "  Text(0, 5.0, '5'),\n",
       "  Text(0, 6.0, '6'),\n",
       "  Text(0, 7.0, '7'),\n",
       "  Text(0, 8.0, '8'),\n",
       "  Text(0, 9.0, '9'),\n",
       "  Text(0, 10.0, '10'),\n",
       "  Text(0, 11.0, '11'),\n",
       "  Text(0, 12.0, '12'),\n",
       "  Text(0, 13.0, '13'),\n",
       "  Text(0, 14.0, '14'),\n",
       "  Text(0, 15.0, '15'),\n",
       "  Text(0, 16.0, '16'),\n",
       "  Text(0, 17.0, '17'),\n",
       "  Text(0, 18.0, '18'),\n",
       "  Text(0, 19.0, '19')])"
      ]
     },
     "execution_count": 43,
     "metadata": {},
     "output_type": "execute_result"
    },
    {
     "data": {
      "image/png": "[encoded data removed]",
      "text/plain": [
       "<Figure size 640x480 with 1 Axes>"
      ]
     },
     "metadata": {},
     "output_type": "display_data"
    }
   ],
   "source": [
    "#Realizamos una gráfica de barras\n",
    "sns.barplot(data=df_sorted, x=\"Sport\", y=\"Medal\")\n",
    "plt.xticks(rotation=90)\n",
    "y_min, y_max = plt.ylim()\n",
    "\n",
    "# Configurar los ticks del eje y para que incrementen en 1\n",
    "plt.yticks(np.arange(np.floor(y_min), np.ceil(y_max) + 1, 1))"
   ]
  },
  {
   "cell_type": "code",
   "execution_count": null,
   "id": "8a5a0c04-bce4-4e80-8b3f-2a392e78b7ea",
   "metadata": {},
   "outputs": [],
   "source": []
  }
 ],
 "metadata": {
  "kernelspec": {
   "display_name": "Python 3 (ipykernel)",
   "language": "python",
   "name": "python3"
  },
  "language_info": {
   "codemirror_mode": {
    "name": "ipython",
    "version": 3
   },
   "file_extension": ".py",
   "mimetype": "text/x-python",
   "name": "python",
   "nbconvert_exporter": "python",
   "pygments_lexer": "ipython3",
   "version": "3.10.9"
  }
 },
 "nbformat": 4,
 "nbformat_minor": 5
}
